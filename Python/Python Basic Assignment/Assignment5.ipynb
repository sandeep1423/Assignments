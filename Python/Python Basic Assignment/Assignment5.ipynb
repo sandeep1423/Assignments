{
 "cells": [
  {
   "cell_type": "code",
   "execution_count": 1,
   "id": "ee9d596c",
   "metadata": {},
   "outputs": [
    {
     "data": {
      "text/plain": [
       "{}"
      ]
     },
     "execution_count": 1,
     "metadata": {},
     "output_type": "execute_result"
    }
   ],
   "source": [
    "#1. What does an empty dictionary&#39;s code look like?\n",
    "{}"
   ]
  },
  {
   "cell_type": "code",
   "execution_count": 4,
   "id": "c1cbcd56",
   "metadata": {},
   "outputs": [
    {
     "data": {
      "text/plain": [
       "dict_values([42])"
      ]
     },
     "execution_count": 4,
     "metadata": {},
     "output_type": "execute_result"
    }
   ],
   "source": [
    "#2. What is the value of a dictionary value with the key 'foo' and the value 42?\n",
    "d={'foo':42} #value is 42\n",
    "d.values()"
   ]
  },
  {
   "cell_type": "code",
   "execution_count": null,
   "id": "b950b283",
   "metadata": {},
   "outputs": [],
   "source": [
    "#3. What is the most significant distinction between a dictionary and a list?\n",
    "Dictionaries are represented by {}.The Items stored in a dictionary are Unordered\n",
    "listed are represented by []. the items in a list are ordered"
   ]
  },
  {
   "cell_type": "code",
   "execution_count": 5,
   "id": "ba68b11c",
   "metadata": {},
   "outputs": [
    {
     "ename": "KeyError",
     "evalue": "'foo'",
     "output_type": "error",
     "traceback": [
      "\u001b[1;31m---------------------------------------------------------------------------\u001b[0m",
      "\u001b[1;31mKeyError\u001b[0m                                  Traceback (most recent call last)",
      "Input \u001b[1;32mIn [5]\u001b[0m, in \u001b[0;36m<cell line: 3>\u001b[1;34m()\u001b[0m\n\u001b[0;32m      1\u001b[0m \u001b[38;5;66;03m#4.What happens if you try to access spam ['foo'] if spam is {'bar':100} ?\u001b[39;00m\n\u001b[0;32m      2\u001b[0m spam\u001b[38;5;241m=\u001b[39m{\u001b[38;5;124m'\u001b[39m\u001b[38;5;124mbar\u001b[39m\u001b[38;5;124m'\u001b[39m:\u001b[38;5;241m100\u001b[39m}\n\u001b[1;32m----> 3\u001b[0m \u001b[43mspam\u001b[49m\u001b[43m[\u001b[49m\u001b[38;5;124;43m'\u001b[39;49m\u001b[38;5;124;43mfoo\u001b[39;49m\u001b[38;5;124;43m'\u001b[39;49m\u001b[43m]\u001b[49m\n",
      "\u001b[1;31mKeyError\u001b[0m: 'foo'"
     ]
    }
   ],
   "source": [
    "#4.What happens if you try to access spam ['foo'] if spam is {'bar':100} ?\n",
    "Ans: will get keyError\n",
    "spam={'bar':100}\n",
    "spam['foo'] #keyError"
   ]
  },
  {
   "cell_type": "code",
   "execution_count": null,
   "id": "8110f681",
   "metadata": {},
   "outputs": [],
   "source": [
    "#5.if a dictionary is stored in spam,what is the difference between the \n",
    "    #expressions 'cat' in spam and 'cat' in spam.keys() ?  (Keys)\n",
    "Ans:There is no difference . The operator checks whether a value exits as a key in the dictionary or not."
   ]
  },
  {
   "cell_type": "code",
   "execution_count": null,
   "id": "5afe5a1f",
   "metadata": {},
   "outputs": [],
   "source": [
    "#6.if a dictionary is stored in spam,what is the difference between the \n",
    "    #expressions 'cat' in spam and 'cat' in spam.values() ?  (Values)\n",
    "ANs: 'cat' in spam checks whether there is a 'cat' key in the dictionary, while 'cat' in spam.values() checks \n",
    "      whether there is a value 'cat' for one of the keys in spam."
   ]
  },
  {
   "cell_type": "code",
   "execution_count": null,
   "id": "ad652bed",
   "metadata": {},
   "outputs": [],
   "source": [
    "#7.what is a shortcut for the following code ?\n",
    "if 'color' not in spam: spam['color'] ='black'\n",
    "\n",
    "Ans: spam.setdefault('color','black')"
   ]
  },
  {
   "cell_type": "code",
   "execution_count": null,
   "id": "e9330203",
   "metadata": {},
   "outputs": [],
   "source": [
    "#8.How do you 'pretty print' dictionary values using which modules and function ?\n",
    "Ans:    \n",
    "    we can pretty print a dictionary using three functions\n",
    "    1)By using pprint() function of pprint module\n",
    "        Note: pprint() function doesnot prettify nested dictionaries\n",
    "    2)By using dumps() method of json module\n",
    "    3)By using dumps() method of yaml module"
   ]
  },
  {
   "cell_type": "code",
   "execution_count": null,
   "id": "9e869e8c",
   "metadata": {},
   "outputs": [],
   "source": []
  },
  {
   "cell_type": "code",
   "execution_count": null,
   "id": "d649ba0a",
   "metadata": {},
   "outputs": [],
   "source": []
  }
 ],
 "metadata": {
  "kernelspec": {
   "display_name": "Python 3 (ipykernel)",
   "language": "python",
   "name": "python3"
  },
  "language_info": {
   "codemirror_mode": {
    "name": "ipython",
    "version": 3
   },
   "file_extension": ".py",
   "mimetype": "text/x-python",
   "name": "python",
   "nbconvert_exporter": "python",
   "pygments_lexer": "ipython3",
   "version": "3.9.12"
  }
 },
 "nbformat": 4,
 "nbformat_minor": 5
}
