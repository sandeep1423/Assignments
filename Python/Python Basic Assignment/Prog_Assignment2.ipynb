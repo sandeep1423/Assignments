{
 "cells": [
  {
   "cell_type": "code",
   "execution_count": 15,
   "id": "913b76ac",
   "metadata": {},
   "outputs": [
    {
     "name": "stdout",
     "output_type": "stream",
     "text": [
      "Enter kilometer: 5.6\n",
      "The miles is equal to  3.4792799999999997\n"
     ]
    }
   ],
   "source": [
    "#1km = 0.6213 miles \n",
    "kilometer=float(input(\"Enter kilometer: \"))\n",
    "miles =kilometer *  0.6213\n",
    "print('The miles is equal to ',miles)"
   ]
  },
  {
   "cell_type": "code",
   "execution_count": 18,
   "id": "757791b5",
   "metadata": {},
   "outputs": [
    {
     "name": "stdout",
     "output_type": "stream",
     "text": [
      "Enter the celsius: 32.5\n",
      "fahrenhiet is equal to  90.5\n"
     ]
    }
   ],
   "source": [
    "#2. Write a Python program to convert Celsius to Fahrenheit?\n",
    "#(°C × 9/5) + 32 = °F\n",
    "celsius = float(input('Enter the celsius: '))\n",
    "fahrenhiet = (1.8 * celsius) + 32\n",
    "\n",
    "print(\"fahrenhiet is equal to \",fahrenhiet)"
   ]
  },
  {
   "cell_type": "code",
   "execution_count": 28,
   "id": "5e73bc29",
   "metadata": {},
   "outputs": [
    {
     "name": "stdout",
     "output_type": "stream",
     "text": [
      "   November 2022\n",
      "Mo Tu We Th Fr Sa Su\n",
      "    1  2  3  4  5  6\n",
      " 7  8  9 10 11 12 13\n",
      "14 15 16 17 18 19 20\n",
      "21 22 23 24 25 26 27\n",
      "28 29 30\n",
      "\n"
     ]
    }
   ],
   "source": [
    "#3. Write a Python program to display calendar?\n",
    "import calendar\n",
    "year = 2022\n",
    "month = 11\n",
    "print(calendar.month(year,month))"
   ]
  },
  {
   "cell_type": "code",
   "execution_count": 42,
   "id": "16163065",
   "metadata": {},
   "outputs": [
    {
     "name": "stdout",
     "output_type": "stream",
     "text": [
      "the roots are : \n",
      " (-0.5857864376269049+0j) \n",
      " (3.414213562373095+0j)\n"
     ]
    }
   ],
   "source": [
    "#4. Write a Python program to solve quadratic equation?\n",
    "import cmath\n",
    "a = 1\n",
    "b = 4 \n",
    "c = 2\n",
    "\n",
    "dis = (b **2)-(4 * a * c)\n",
    "\n",
    "rot1= (-b + cmath.sqrt(dis))/(2 * a)\n",
    "rot2= (+b + cmath.sqrt(dis))/(2 * a)\n",
    "print(\"the roots are : \\n\",rot1,'\\n',rot2)"
   ]
  },
  {
   "cell_type": "code",
   "execution_count": 45,
   "id": "8ae54b86",
   "metadata": {},
   "outputs": [
    {
     "name": "stdout",
     "output_type": "stream",
     "text": [
      "value of a is  10\n",
      "value od b is  5\n"
     ]
    }
   ],
   "source": [
    "#5. Write a Python program to swap two variables without temp variable?\n",
    "a = 5\n",
    "b = 10\n",
    "a,b = b,a\n",
    "\n",
    "print('value of a is ',a)\n",
    "print('value od b is ',b)"
   ]
  },
  {
   "cell_type": "code",
   "execution_count": null,
   "id": "96e46d87",
   "metadata": {},
   "outputs": [],
   "source": []
  }
 ],
 "metadata": {
  "kernelspec": {
   "display_name": "Python 3 (ipykernel)",
   "language": "python",
   "name": "python3"
  },
  "language_info": {
   "codemirror_mode": {
    "name": "ipython",
    "version": 3
   },
   "file_extension": ".py",
   "mimetype": "text/x-python",
   "name": "python",
   "nbconvert_exporter": "python",
   "pygments_lexer": "ipython3",
   "version": "3.9.12"
  }
 },
 "nbformat": 4,
 "nbformat_minor": 5
}
