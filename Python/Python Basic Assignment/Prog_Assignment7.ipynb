{
 "cells": [
  {
   "cell_type": "code",
   "execution_count": 5,
   "id": "545abcb1",
   "metadata": {},
   "outputs": [
    {
     "data": {
      "text/plain": [
       "('Sum of [1, 2, 3, 4, 5] is ', 15)"
      ]
     },
     "execution_count": 5,
     "metadata": {},
     "output_type": "execute_result"
    }
   ],
   "source": [
    "#1. Write a Python Program to find sum of array?\n",
    "\n",
    "def sumOfArray():\n",
    "    '''This function display the sum of array'''\n",
    "    arr = [1,2,3,4,5]\n",
    "    sum = 0\n",
    "    for i in arr :\n",
    "        sum = sum + i\n",
    "    return f'Sum of {arr} is ',sum\n",
    "sumOfArray()"
   ]
  },
  {
   "cell_type": "code",
   "execution_count": 12,
   "id": "767776d5",
   "metadata": {},
   "outputs": [
    {
     "data": {
      "text/plain": [
       "('the largest number from [14, 29, 33, 47, 53, 87, 65, 42] is ', 87)"
      ]
     },
     "execution_count": 12,
     "metadata": {},
     "output_type": "execute_result"
    }
   ],
   "source": [
    "#2. Write a Python Program to find largest element in an array?\n",
    "def sumOfArray():\n",
    "    '''This function display the largest number of array'''\n",
    "    arr = [14,29,33,47,53,87,65,42]\n",
    "    max = arr[0]\n",
    "    n = len(arr)\n",
    "    for i in range(1,n) :\n",
    "        if arr[i]>=max:\n",
    "            max=arr[i]\n",
    "    return f'the largest number from {arr} is ',max\n",
    "sumOfArray()"
   ]
  },
  {
   "cell_type": "code",
   "execution_count": 28,
   "id": "ddbc7f6d",
   "metadata": {},
   "outputs": [
    {
     "name": "stdout",
     "output_type": "stream",
     "text": [
      "before roatation is [1, 2, 3, 4, 5, 6, 7]\n",
      "How many values you want to rotate: 3\n"
     ]
    },
    {
     "data": {
      "text/plain": [
       "('the rotated array of is ', [4, 5, 6, 7, 1, 2, 3])"
      ]
     },
     "execution_count": 28,
     "metadata": {},
     "output_type": "execute_result"
    }
   ],
   "source": [
    "#. Write a Python Program for array rotation?\n",
    "\n",
    "def arrayrotation(arr):\n",
    "    '''This function display the array rotation'''\n",
    "    arr = [1,2,3,4,5,6,7]\n",
    "    print(f'before roatation is {arr}')\n",
    "    d= int(input('How many values you want to rotate: '))  #two elemnts need to rotatte\n",
    "    n=len(arr)\n",
    "    arr[:]= arr[d:n] + arr[0:d]\n",
    "    return f'the rotated array of is ',arr\n",
    "\n",
    "arrayrotation(arr)"
   ]
  },
  {
   "cell_type": "code",
   "execution_count": 31,
   "id": "40456025",
   "metadata": {},
   "outputs": [
    {
     "name": "stdout",
     "output_type": "stream",
     "text": [
      "Object `end` not found.\n",
      "before split is [1, 2, 3, 4, 5, 6, 7]\n",
      "How many values you want to split: 3\n"
     ]
    },
    {
     "data": {
      "text/plain": [
       "('After split the array is ', [4, 5, 6, 7, 1, 2, 3])"
      ]
     },
     "execution_count": 31,
     "metadata": {},
     "output_type": "execute_result"
    }
   ],
   "source": [
    "#4. Write a Python Program to Split the array and add the first part to the end?\n",
    "def splitArray(arr):\n",
    "    '''This function Split the array and add the first part to the end'''\n",
    "    arr = [1,2,3,4,5,6,7]\n",
    "    print(f'before split is {arr}')\n",
    "    d= int(input('How many values you want to split: '))  \n",
    "    n=len(arr)\n",
    "    arr[:]= arr[d:n] + arr[0:d]\n",
    "    return f'After split the array is ',arr\n",
    "\n",
    "splitArray(arr)"
   ]
  },
  {
   "cell_type": "code",
   "execution_count": 41,
   "id": "b33f0f5c",
   "metadata": {},
   "outputs": [
    {
     "name": "stdout",
     "output_type": "stream",
     "text": [
      "[6, 5, 4, 4] is monotonic\n",
      " [1, 5, 6, 4] is not a monotonic\n"
     ]
    }
   ],
   "source": [
    "#5. Write a Python Program to check if given array is Monotonic?\n",
    "def monotonic(arr):\n",
    "    '''This function provides given array is Monotonic or not '''\n",
    "    x , y = [],[]\n",
    "    x.extend(arr)\n",
    "    y.extend(arr)\n",
    "    x.sort()\n",
    "    y.sort(reverse=True)\n",
    "    if (x == arr or y == arr):\n",
    "        return f'{arr} is monotonic'\n",
    "    return f' {arr} is not a monotonic'\n",
    "\n",
    "print(monotonic([6,5,4,4]))\n",
    "print(monotonic([1,5,6,4,]))"
   ]
  },
  {
   "cell_type": "code",
   "execution_count": null,
   "id": "b402887d",
   "metadata": {},
   "outputs": [],
   "source": []
  }
 ],
 "metadata": {
  "kernelspec": {
   "display_name": "Python 3 (ipykernel)",
   "language": "python",
   "name": "python3"
  },
  "language_info": {
   "codemirror_mode": {
    "name": "ipython",
    "version": 3
   },
   "file_extension": ".py",
   "mimetype": "text/x-python",
   "name": "python",
   "nbconvert_exporter": "python",
   "pygments_lexer": "ipython3",
   "version": "3.9.12"
  }
 },
 "nbformat": 4,
 "nbformat_minor": 5
}
