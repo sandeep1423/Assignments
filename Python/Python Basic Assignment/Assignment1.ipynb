{
 "cells": [
  {
   "cell_type": "code",
   "execution_count": 3,
   "id": "5776a35e",
   "metadata": {},
   "outputs": [
    {
     "data": {
      "text/plain": [
       "\"1. In the below elements which of them are values or an expression? eg:- values can be\\ninteger or string and expressions will be mathematical operators.\\n*\\n'hello';\\n-87.8\\n-\\n/\\n+\\n6\""
      ]
     },
     "execution_count": 3,
     "metadata": {},
     "output_type": "execute_result"
    }
   ],
   "source": [
    "'''1. In the below elements which of them are values or an expression? eg:- values can be\n",
    "integer or string and expressions will be mathematical operators.\n",
    "*\n",
    "'hello';\n",
    "-87.8\n",
    "-\n",
    "/\n",
    "+\n",
    "6'''\n",
    "\n",
    "Ans:\n",
    "There are a total of 4 Operators and 3 Expressions, They are:\n",
    "Operators: *,-,/,+\n",
    "Expressions: 'hello', 87.8, 6"
   ]
  },
  {
   "cell_type": "code",
   "execution_count": null,
   "id": "80eceff4",
   "metadata": {},
   "outputs": [],
   "source": [
    "#2. What is the difference between string and variable?\n",
    "Ans: \n",
    "    A Variable is used to store of information, and a String is a type of information you would store in a Variable. \n",
    "    A String is a group of characters or a single character usually enclosed in Double quotes \" \" or single quotes ' '"
   ]
  },
  {
   "cell_type": "code",
   "execution_count": 11,
   "id": "51c1af76",
   "metadata": {},
   "outputs": [
    {
     "name": "stdout",
     "output_type": "stream",
     "text": [
      "25 <class 'int'>\n",
      "1.85 <class 'float'>\n",
      "(5+8j) <class 'complex'>\n"
     ]
    }
   ],
   "source": [
    "#3. Describe three different data types.\n",
    "# int data type\n",
    "num=25\n",
    "print(num, type(num))\n",
    "# float data type\n",
    "num=1.85\n",
    "print(num, type(num))\n",
    "# Complex data type\n",
    "num= 5+8j\n",
    "print(num, type(num))"
   ]
  },
  {
   "cell_type": "code",
   "execution_count": null,
   "id": "a7c433d1",
   "metadata": {},
   "outputs": [],
   "source": [
    "#4. What is an expression made up of? What do all expressions do?\n",
    "\n",
    "An expression is a combination of values, variables, operators.\n",
    "If we ask Python to print an expression, the interpreter evaluates the expression and displays the result."
   ]
  },
  {
   "cell_type": "code",
   "execution_count": 7,
   "id": "0e6502ce",
   "metadata": {},
   "outputs": [
    {
     "data": {
      "text/plain": [
       "0"
      ]
     },
     "execution_count": 7,
     "metadata": {},
     "output_type": "execute_result"
    }
   ],
   "source": [
    "4*5+20-40 # Is an Expression, The Python Interpreter Evaluates it to 0"
   ]
  },
  {
   "cell_type": "code",
   "execution_count": null,
   "id": "691e286d",
   "metadata": {},
   "outputs": [],
   "source": [
    "#5. This assignment statements, like spam = 10. What is the difference between an expression and a statement?\n",
    "\n",
    "Ans: An expression is a combination of values, variables, and operators.\n",
    "    When we type an expression at the prompt, the interpreter evaluates it, \n",
    "    which means that it finds the value of the expression.\n",
    "\n",
    "eg: 4*5+20-40 is an example of a statement\n",
    "\n",
    "A statement is a unit of code that has an effect, like creating a variable \n",
    "or displaying a value.When we type a statement, the interpreter executes it, \n",
    "which means that it does whatever the statement says. In general, statements don’t have values.\n",
    "\n",
    "eg: variable declaration and assignment are statements because they do not return a value"
   ]
  },
  {
   "cell_type": "code",
   "execution_count": 8,
   "id": "cf1386fb",
   "metadata": {},
   "outputs": [
    {
     "name": "stdout",
     "output_type": "stream",
     "text": [
      "Hello World !\n"
     ]
    }
   ],
   "source": [
    "4*5+20-40 # Is a Expression\n",
    "courseName = 'INeuron FullStack DataScience' # Is a Statement\n",
    "print(\"Hello World !\") # Is a Expression Statement"
   ]
  },
  {
   "cell_type": "code",
   "execution_count": null,
   "id": "ce8855b2",
   "metadata": {},
   "outputs": [],
   "source": [
    "''''6. After running the following code, what does the variable bacon contain?\n",
    "bacon = 22\n",
    "bacon + 1'''\n",
    "\n",
    "#Ans \n",
    "    The variable bacon is set to 22 .The expression bacon + 1 does not \n",
    "    reassign the value in bacon (that would the case if the expression is like bacon = bacon + 1 instead of bacon + 1)"
   ]
  },
  {
   "cell_type": "code",
   "execution_count": 10,
   "id": "9bc2e6b0",
   "metadata": {},
   "outputs": [
    {
     "name": "stdout",
     "output_type": "stream",
     "text": [
      "22\n"
     ]
    }
   ],
   "source": [
    "# Example Case#1\n",
    "bacon=22\n",
    "bacon+1\n",
    "print(bacon)"
   ]
  },
  {
   "cell_type": "code",
   "execution_count": 9,
   "id": "54fe519c",
   "metadata": {},
   "outputs": [
    {
     "name": "stdout",
     "output_type": "stream",
     "text": [
      "23\n"
     ]
    }
   ],
   "source": [
    "bacon=22\n",
    "bacon=bacon+1 \n",
    "print(bacon)\n"
   ]
  },
  {
   "cell_type": "code",
   "execution_count": null,
   "id": "efd87b31",
   "metadata": {},
   "outputs": [],
   "source": []
  },
  {
   "cell_type": "code",
   "execution_count": 6,
   "id": "876d5beb",
   "metadata": {},
   "outputs": [
    {
     "name": "stdout",
     "output_type": "stream",
     "text": [
      "spamspamspam\n",
      "spamspamspam\n"
     ]
    }
   ],
   "source": [
    "'''7. What should the values of the following two terms be?\n",
    "'spam'; + 'spamspam';\n",
    "spam * 3'''\n",
    "#Ans\n",
    "print('spam' + 'spamspam') # concate\n",
    "print('spam' * 3)    #multiply"
   ]
  },
  {
   "cell_type": "code",
   "execution_count": null,
   "id": "19fb0919",
   "metadata": {},
   "outputs": [],
   "source": [
    "#8. Why is eggs a valid variable name while 100 is invalid?\n",
    "ANS:\n",
    "1.varaible name should start with alphabets\n",
    "2.The variable name should noyt contain any special characters like % $ ^ ! @ #\n",
    "3.varaibles names can containnumber but you can't start with number.\n",
    "4.Its a not strict rule you should start names with capital letter But it recommend to use small letters fror variables"
   ]
  },
  {
   "cell_type": "code",
   "execution_count": 12,
   "id": "59cf5f51",
   "metadata": {},
   "outputs": [
    {
     "ename": "SyntaxError",
     "evalue": "cannot assign to literal (1443586010.py, line 2)",
     "output_type": "error",
     "traceback": [
      "\u001b[1;36m  Input \u001b[1;32mIn [12]\u001b[1;36m\u001b[0m\n\u001b[1;33m    100='Python'\u001b[0m\n\u001b[1;37m    ^\u001b[0m\n\u001b[1;31mSyntaxError\u001b[0m\u001b[1;31m:\u001b[0m cannot assign to literal\n"
     ]
    }
   ],
   "source": [
    "egg='Hello'\n",
    "100='Python' \n",
    "print(egg) \n",
    "print(100)"
   ]
  },
  {
   "cell_type": "code",
   "execution_count": null,
   "id": "39fdf3dd",
   "metadata": {},
   "outputs": [],
   "source": [
    "#9. What three functions can be used to get the integer, floating-point number, or string version of a value?\n",
    "\n",
    " The int(),float(),and str() functions will evaluate to the integer,floating-point number,\n",
    "    string version of the value passed to them."
   ]
  },
  {
   "cell_type": "code",
   "execution_count": 13,
   "id": "c8205003",
   "metadata": {},
   "outputs": [
    {
     "data": {
      "text/plain": [
       "15"
      ]
     },
     "execution_count": 13,
     "metadata": {},
     "output_type": "execute_result"
    }
   ],
   "source": [
    "int(15.52)"
   ]
  },
  {
   "cell_type": "code",
   "execution_count": 14,
   "id": "6a0b0f39",
   "metadata": {},
   "outputs": [
    {
     "data": {
      "text/plain": [
       "18.0"
      ]
     },
     "execution_count": 14,
     "metadata": {},
     "output_type": "execute_result"
    }
   ],
   "source": [
    "float(18)"
   ]
  },
  {
   "cell_type": "code",
   "execution_count": 15,
   "id": "84881551",
   "metadata": {},
   "outputs": [
    {
     "data": {
      "text/plain": [
       "'122'"
      ]
     },
     "execution_count": 15,
     "metadata": {},
     "output_type": "execute_result"
    }
   ],
   "source": [
    "str(122)"
   ]
  },
  {
   "cell_type": "code",
   "execution_count": null,
   "id": "b12a871a",
   "metadata": {},
   "outputs": [],
   "source": [
    "10.Why does this expression cause an error? how can you fix it?\n",
    "'I have eaten ' + 99 + 'burritos.'"
   ]
  },
  {
   "cell_type": "code",
   "execution_count": null,
   "id": "7b010e2f",
   "metadata": {},
   "outputs": [],
   "source": [
    "ANS:\n",
    "    since 99 is not string so need tp typecast to int to str"
   ]
  },
  {
   "cell_type": "code",
   "execution_count": 17,
   "id": "61c19550",
   "metadata": {},
   "outputs": [
    {
     "data": {
      "text/plain": [
       "'I have eaten 99 burritos.'"
      ]
     },
     "execution_count": 17,
     "metadata": {},
     "output_type": "execute_result"
    }
   ],
   "source": [
    "'I have eaten ' + str(99) + ' burritos.'"
   ]
  },
  {
   "cell_type": "code",
   "execution_count": null,
   "id": "e1290298",
   "metadata": {},
   "outputs": [],
   "source": []
  }
 ],
 "metadata": {
  "kernelspec": {
   "display_name": "Python 3 (ipykernel)",
   "language": "python",
   "name": "python3"
  },
  "language_info": {
   "codemirror_mode": {
    "name": "ipython",
    "version": 3
   },
   "file_extension": ".py",
   "mimetype": "text/x-python",
   "name": "python",
   "nbconvert_exporter": "python",
   "pygments_lexer": "ipython3",
   "version": "3.9.12"
  }
 },
 "nbformat": 4,
 "nbformat_minor": 5
}
