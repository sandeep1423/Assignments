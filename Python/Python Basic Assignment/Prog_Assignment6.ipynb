{
 "cells": [
  {
   "cell_type": "code",
   "execution_count": 5,
   "id": "d4bf04ca",
   "metadata": {},
   "outputs": [
    {
     "data": {
      "text/plain": [
       "13"
      ]
     },
     "execution_count": 5,
     "metadata": {},
     "output_type": "execute_result"
    }
   ],
   "source": [
    "#1. Write a Python Program to Display Fibonacci Sequence Using Recursion?\n",
    "def fibo(num):\n",
    "    '''This function display Fibonacci Sequence Using Recursion'''\n",
    "    if num <=1:\n",
    "        return num\n",
    "    return fibo(num-1) + fibo(num-2)\n",
    "\n",
    "fibo(7)"
   ]
  },
  {
   "cell_type": "code",
   "execution_count": 3,
   "id": "31e9df2c",
   "metadata": {},
   "outputs": [
    {
     "data": {
      "text/plain": [
       "120"
      ]
     },
     "execution_count": 3,
     "metadata": {},
     "output_type": "execute_result"
    }
   ],
   "source": [
    "#2. Write a Python Program to Find Factorial of Number Using Recursion?\n",
    "def fact(num):\n",
    "    '''This function display factorial Using Recursion'''\n",
    "    if num == 1 :\n",
    "        return num\n",
    "    else:\n",
    "        return num * fact(num-1)\n",
    "fact(5)"
   ]
  },
  {
   "cell_type": "code",
   "execution_count": 10,
   "id": "4f3471a3",
   "metadata": {},
   "outputs": [
    {
     "name": "stdout",
     "output_type": "stream",
     "text": [
      "Enter the height(in meters): 1.70\n",
      "Enter the weight(in Kgs): 75\n",
      "The body mass index is  25.95155709342561\n",
      "you are over weigth\n"
     ]
    }
   ],
   "source": [
    "#3. Write a Python Program to calculate your Body Mass Index?\n",
    "height = float(input('Enter the height(in meters): '))\n",
    "weight = float(input('Enter the weight(in Kgs): '))\n",
    "\n",
    "BMI = weight/(height * height)\n",
    "\n",
    "print('The body mass index is ',BMI)\n",
    "\n",
    "if (BMI <= 18.5):\n",
    "    print(\"you are under weigth\")\n",
    "elif (BMI <= 24.9):\n",
    "    print(\"you are Healthy\")\n",
    "elif (BMI <= 30):\n",
    "    print(\"you are over weigth\")\n",
    "else :\n",
    "    print('Your suffering obesity')"
   ]
  },
  {
   "cell_type": "code",
   "execution_count": 17,
   "id": "2d7f783c",
   "metadata": {},
   "outputs": [
    {
     "name": "stdout",
     "output_type": "stream",
     "text": [
      "Enter a number: 5\n",
      "the natural logarithm is 1.6094379124341003\n"
     ]
    }
   ],
   "source": [
    "#4. Write a Python Program to calculate the natural logarithm of any number?\n",
    "\n",
    "def naturallog():\n",
    "    '''This function display natural logarithm of any number'''\n",
    "    import math\n",
    "    num = float(input('Enter a number: '))\n",
    "\n",
    "    ans = math.log(num)\n",
    "\n",
    "    print(f'the natural logarithm is {ans}')\n",
    "naturallog()"
   ]
  },
  {
   "cell_type": "code",
   "execution_count": 21,
   "id": "659dbf16",
   "metadata": {},
   "outputs": [
    {
     "name": "stdout",
     "output_type": "stream",
     "text": [
      "Enter vthe number: 5\n"
     ]
    },
    {
     "data": {
      "text/plain": [
       "'cube sum of first 5 natural numbers is 225.0'"
      ]
     },
     "execution_count": 21,
     "metadata": {},
     "output_type": "execute_result"
    }
   ],
   "source": [
    "#5. Write a Python Program for cube sum of first n natural numbers?\n",
    "def sumOfCube():\n",
    "    '''This function display cube sum of first n natural numbers'''\n",
    "    num = int(input('Enter vthe number: '))\n",
    "    cube = (num * (num + 1)/2)**2\n",
    "    return f'cube sum of first {num} natural numbers is {cube}'\n",
    "sumOfCube()"
   ]
  },
  {
   "cell_type": "code",
   "execution_count": null,
   "id": "90d8a9ec",
   "metadata": {},
   "outputs": [],
   "source": []
  }
 ],
 "metadata": {
  "kernelspec": {
   "display_name": "Python 3 (ipykernel)",
   "language": "python",
   "name": "python3"
  },
  "language_info": {
   "codemirror_mode": {
    "name": "ipython",
    "version": 3
   },
   "file_extension": ".py",
   "mimetype": "text/x-python",
   "name": "python",
   "nbconvert_exporter": "python",
   "pygments_lexer": "ipython3",
   "version": "3.9.12"
  }
 },
 "nbformat": 4,
 "nbformat_minor": 5
}
