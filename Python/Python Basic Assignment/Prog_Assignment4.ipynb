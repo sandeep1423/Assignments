{
 "cells": [
  {
   "cell_type": "code",
   "execution_count": 118,
   "id": "91577afb",
   "metadata": {},
   "outputs": [
    {
     "name": "stdout",
     "output_type": "stream",
     "text": [
      "Enter the number: 5\n",
      "('The factorial is', 120)\n",
      "Enter the number: 0\n",
      "('The factorial is', 1)\n",
      "Enter the number: 15.23\n",
      "Kindly enter integer number\n"
     ]
    }
   ],
   "source": [
    "#1. Write a Python Program to Find the Factorial of a Number?\n",
    "def factorial():\n",
    "    '''this fuction gives factorial of a given number'''\n",
    "    try:\n",
    "        num = int(input(\"Enter the number: \"))\n",
    "        if num <=1:\n",
    "            return 'The factorial is',1\n",
    "        fact=1\n",
    "        for i in range(1,num+1):\n",
    "            fact = i * fact\n",
    "        return 'The factorial is',fact\n",
    "    except:\n",
    "        return 'Kindly enter integer number'\n",
    "\n",
    "print(factorial())\n",
    "print(factorial())\n",
    "print(factorial())"
   ]
  },
  {
   "cell_type": "code",
   "execution_count": 119,
   "id": "ea54ca82",
   "metadata": {},
   "outputs": [
    {
     "name": "stdout",
     "output_type": "stream",
     "text": [
      "Enter the table: 5\n",
      "5 * 1 = 5\n",
      "5 * 2 = 10\n",
      "5 * 3 = 15\n",
      "5 * 4 = 20\n",
      "5 * 5 = 25\n",
      "5 * 6 = 30\n",
      "5 * 7 = 35\n",
      "5 * 8 = 40\n",
      "5 * 9 = 45\n",
      "5 * 10 = 50\n"
     ]
    }
   ],
   "source": [
    "#2. Write a Python Program to Display the multiplication Table?\n",
    "num=int(input('Enter the table: '))\n",
    "for i in range(1,11):\n",
    "    print(num ,'*', i ,'=', num*i)"
   ]
  },
  {
   "cell_type": "code",
   "execution_count": 120,
   "id": "661a9afb",
   "metadata": {},
   "outputs": [
    {
     "name": "stdout",
     "output_type": "stream",
     "text": [
      "Enter the terms: 7\n",
      "the nth terms are: \n",
      "0 1 1 2 3 5 8 "
     ]
    }
   ],
   "source": [
    "#3. Write a Python Program to Print the Fibonacci sequence?\n",
    "#0 1 1 2 3 5 8 13 21 34\n",
    "def fibo():\n",
    "    '''This function gives fibonacci squence of given term '''\n",
    "    try:\n",
    "        nterm=int(input('Enter the terms: '))\n",
    "        a=0\n",
    "        b=1\n",
    "        count=0\n",
    "        if nterm <=0:\n",
    "            return 'Kindly enter positive intger or greater than 0'\n",
    "        elif nterm ==1:\n",
    "            return 'the term is ',a\n",
    "        else:\n",
    "            print('the nth terms are: ')\n",
    "            while count < nterm:\n",
    "                print(a,end=' ')\n",
    "                c = a+b\n",
    "                a=b\n",
    "                b = c\n",
    "                count+=1\n",
    "            \n",
    "    except:\n",
    "        return 'Kindly enter integer numbers'\n",
    "fibo()\n"
   ]
  },
  {
   "cell_type": "code",
   "execution_count": 121,
   "id": "d4d053d5",
   "metadata": {},
   "outputs": [
    {
     "name": "stdout",
     "output_type": "stream",
     "text": [
      "Enter the number: 1634\n",
      "1634  is a armstrong\n"
     ]
    }
   ],
   "source": [
    "#4. Write a Python Program to Check Armstrong Number?\n",
    "def armstrong():\n",
    "    '''This function gives armstong number'''\n",
    "    try:\n",
    "        num=int(input('Enter the number: '))\n",
    "\n",
    "        numlen=len(str(num))\n",
    "        sum=0\n",
    "        temp = num\n",
    "\n",
    "        while temp>0:\n",
    "            rem = temp %10\n",
    "            sum = sum + (rem**numlen)\n",
    "            temp=temp//10\n",
    "\n",
    "        if num == sum:\n",
    "            print(num,' is a armstrong')\n",
    "        else:\n",
    "            print(num,' is not a armstrong')\n",
    "    except:\n",
    "        return 'Kindly enter the integer number'\n",
    "armstrong()"
   ]
  },
  {
   "cell_type": "code",
   "execution_count": 122,
   "id": "1315e102",
   "metadata": {},
   "outputs": [
    {
     "name": "stdout",
     "output_type": "stream",
     "text": [
      "The armstrong numbers are \n",
      "153\n",
      "370\n",
      "371\n",
      "407\n",
      "1634\n"
     ]
    }
   ],
   "source": [
    "#5. Write a Python Program to Find Armstrong Number in an Interval?\n",
    "def armstrongInterval():\n",
    "    '''This function gives armstong number of given in a interval'''\n",
    "    lower = 100\n",
    "    upper = 2000\n",
    "    print('The armstrong numbers are ')\n",
    "    for num in range(lower,upper):\n",
    "        sum =0\n",
    "        temp=num\n",
    "        order=len(str(num))\n",
    "        while temp>0:\n",
    "            rem = temp % 10\n",
    "            sum = sum + rem**order\n",
    "            temp = temp//10\n",
    "        if num == sum:\n",
    "             print(num)\n",
    "armstrongInterval()"
   ]
  },
  {
   "cell_type": "code",
   "execution_count": 123,
   "id": "1b206097",
   "metadata": {},
   "outputs": [
    {
     "name": "stdout",
     "output_type": "stream",
     "text": [
      "Enter the number: 6\n"
     ]
    },
    {
     "data": {
      "text/plain": [
       "('sum of natural number is ', 21.0)"
      ]
     },
     "execution_count": 123,
     "metadata": {},
     "output_type": "execute_result"
    }
   ],
   "source": [
    "#6. Write a Python Program to Find the Sum of Natural Numbers?\n",
    "def sumOfNatualNumber():\n",
    "    '''This function gives sum of n natural numbers'''\n",
    "    try :\n",
    "        num = int(input('Enter the number: '))\n",
    "        sum = (num * (num + 1))/2\n",
    "        return 'sum of natural number is ', sum\n",
    "    except:\n",
    "        return 'Kindly enter the integer'\n",
    "sumOfNatualNumber()"
   ]
  },
  {
   "cell_type": "code",
   "execution_count": null,
   "id": "4351768b",
   "metadata": {},
   "outputs": [],
   "source": []
  }
 ],
 "metadata": {
  "kernelspec": {
   "display_name": "Python 3 (ipykernel)",
   "language": "python",
   "name": "python3"
  },
  "language_info": {
   "codemirror_mode": {
    "name": "ipython",
    "version": 3
   },
   "file_extension": ".py",
   "mimetype": "text/x-python",
   "name": "python",
   "nbconvert_exporter": "python",
   "pygments_lexer": "ipython3",
   "version": "3.9.12"
  }
 },
 "nbformat": 4,
 "nbformat_minor": 5
}
