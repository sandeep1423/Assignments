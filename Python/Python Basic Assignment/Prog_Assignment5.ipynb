{
 "cells": [
  {
   "cell_type": "code",
   "execution_count": 1,
   "id": "fc727ad5",
   "metadata": {},
   "outputs": [
    {
     "name": "stdout",
     "output_type": "stream",
     "text": [
      "Enter the first number: 12\n",
      "Enter the second number: 16\n",
      "LCM is 48.0\n"
     ]
    }
   ],
   "source": [
    "#1. Write a Python Program to Find LCM?\n",
    "\n",
    "num1=int(input('Enter the first number: '))\n",
    "num2=int(input('Enter the second number: '))\n",
    "\n",
    "if num1>num2:\n",
    "    smaller = num2\n",
    "else:\n",
    "    smaller = num1\n",
    "for i in range(1,smaller+1):\n",
    "    if(num1%i==0 and num2%i ==0):\n",
    "        HCF=i\n",
    "LCM=(num1*num2)/HCF\n",
    "\n",
    "print('LCM is', LCM)"
   ]
  },
  {
   "cell_type": "code",
   "execution_count": 2,
   "id": "fbe5d94b",
   "metadata": {},
   "outputs": [
    {
     "name": "stdout",
     "output_type": "stream",
     "text": [
      "Enter the first number: 12\n",
      "Enter the second number: 16\n",
      "HCF is 4\n"
     ]
    }
   ],
   "source": [
    "#2. Write a Python Program to Find HCF?\n",
    "\n",
    "num1=int(input('Enter the first number: '))\n",
    "num2=int(input('Enter the second number: '))\n",
    "\n",
    "if num1>num2:\n",
    "    smaller = num2\n",
    "else:\n",
    "    smaller = num1\n",
    "for i in range(1,smaller+1):\n",
    "    if(num1%i==0 and num2%i ==0):\n",
    "        HCF=i\n",
    "\n",
    "print('HCF is', HCF)"
   ]
  },
  {
   "cell_type": "code",
   "execution_count": 9,
   "id": "9b4bbf6a",
   "metadata": {},
   "outputs": [
    {
     "name": "stdout",
     "output_type": "stream",
     "text": [
      "Enter the number: 924\n",
      "The Binary number is  0b1110011100\n",
      "The Octal number is  0o1634\n",
      "The Hexa decimal number is  0x39c\n"
     ]
    }
   ],
   "source": [
    "#3. Write a Python Program to Convert Decimal to Binary, Octal and Hexadecimal?\n",
    "\n",
    "Decimal_No = int(input('Enter the number: '))\n",
    "print('The Binary number is ',bin(Decimal_No))\n",
    "print('The Octal number is ',oct(Decimal_No))\n",
    "print('The Hexa decimal number is ',hex(Decimal_No))"
   ]
  },
  {
   "cell_type": "code",
   "execution_count": 11,
   "id": "27b34185",
   "metadata": {},
   "outputs": [
    {
     "name": "stdout",
     "output_type": "stream",
     "text": [
      "The ASCII value of  g  is  103\n"
     ]
    }
   ],
   "source": [
    "#4. Write a Python Program To Find ASCII value of a character?\n",
    "\n",
    "char = 'g'\n",
    "\n",
    "print('The ASCII value of ',char , ' is ',ord(char))"
   ]
  },
  {
   "cell_type": "code",
   "execution_count": 18,
   "id": "4231361a",
   "metadata": {},
   "outputs": [
    {
     "name": "stdout",
     "output_type": "stream",
     "text": [
      "Enter the first number: 20\n",
      "Enter the second number: 10\n",
      "Enter the operator+ , -, *,/ :  +\n",
      "('Addition is :', 30.0)\n",
      "Enter the first number: 20\n",
      "Enter the second number: 10\n",
      "Enter the operator+ , -, *,/ :  -\n",
      "('Subtraction is :', 10.0)\n",
      "Enter the first number: 20\n",
      "Enter the second number: 10\n",
      "Enter the operator+ , -, *,/ :  *\n",
      "('Multiplication is :', 200.0)\n",
      "Enter the first number: 20\n",
      "Enter the second number: 10\n",
      "Enter the operator+ , -, *,/ :  /\n",
      "('Division is :', 2.0)\n"
     ]
    }
   ],
   "source": [
    "#5. Write a Python Program to Make a Simple Calculator with 4 basic mathematical operations?\n",
    "def calculator():\n",
    "    try:\n",
    "        num1=float(input('Enter the first number: '))\n",
    "        num2=float(input('Enter the second number: '))\n",
    "        oper = input('Enter the operator+ , -, *,/ :  ')\n",
    "        if oper == '+':\n",
    "            return'Addition is :' , num1+num2\n",
    "        elif oper== '-':\n",
    "            return 'Subtraction is :' , num1-num2\n",
    "        elif oper == '*':  \n",
    "            return 'Multiplication is :' , num1*num2\n",
    "        elif oper == '/':\n",
    "            return 'Division is :' , num1/num2\n",
    "        else:\n",
    "            return 'Invalid operator'\n",
    "    except :\n",
    "        return 'Kindly enter a integer value'\n",
    "print(calculator())\n",
    "print(calculator())\n",
    "print(calculator())\n",
    "print(calculator())"
   ]
  },
  {
   "cell_type": "code",
   "execution_count": null,
   "id": "c5358218",
   "metadata": {},
   "outputs": [],
   "source": []
  }
 ],
 "metadata": {
  "kernelspec": {
   "display_name": "Python 3 (ipykernel)",
   "language": "python",
   "name": "python3"
  },
  "language_info": {
   "codemirror_mode": {
    "name": "ipython",
    "version": 3
   },
   "file_extension": ".py",
   "mimetype": "text/x-python",
   "name": "python",
   "nbconvert_exporter": "python",
   "pygments_lexer": "ipython3",
   "version": "3.9.12"
  }
 },
 "nbformat": 4,
 "nbformat_minor": 5
}
